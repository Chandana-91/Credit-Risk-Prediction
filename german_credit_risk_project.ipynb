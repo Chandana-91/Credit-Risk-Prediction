{
 "cells": [
  {
   "cell_type": "markdown",
   "id": "4b242efa",
   "metadata": {},
   "source": [
    "# 📊 German Credit Risk Prediction Project"
   ]
  },
  {
   "cell_type": "markdown",
   "id": "28e20b9b",
   "metadata": {},
   "source": [
    "### 🔹 Step 1: Data Preprocessing"
   ]
  },
  {
   "cell_type": "code",
   "execution_count": null,
   "id": "4baf4da2",
   "metadata": {},
   "outputs": [],
   "source": [
    "\n",
    "import pandas as pd\n",
    "from sklearn.model_selection import train_test_split\n",
    "\n",
    "# Load dataset\n",
    "df = pd.read_csv(\"processed_german_credit.csv\")\n",
    "\n",
    "# Drop rows with missing values\n",
    "df.dropna(inplace=True)\n",
    "\n",
    "# Encode categorical variables\n",
    "df_encoded = pd.get_dummies(df, drop_first=True)\n",
    "\n",
    "# Features and Target\n",
    "X = df_encoded.drop(\"Risk\", axis=1)\n",
    "y = df_encoded[\"Risk\"]\n",
    "\n",
    "# Train-test split\n",
    "X_train, X_test, y_train, y_test = train_test_split(X, y, test_size=0.2, random_state=42)\n",
    "\n",
    "# Save preprocessed data\n",
    "X_train.to_csv(\"X_train.csv\", index=False)\n",
    "X_test.to_csv(\"X_test.csv\", index=False)\n",
    "y_train.to_csv(\"y_train.csv\", index=False)\n",
    "y_test.to_csv(\"y_test.csv\", index=False)\n"
   ]
  },
  {
   "cell_type": "markdown",
   "id": "611abeb4",
   "metadata": {},
   "source": [
    "### 🔹 Step 2: Model Training"
   ]
  },
  {
   "cell_type": "code",
   "execution_count": null,
   "id": "0ee38979",
   "metadata": {},
   "outputs": [],
   "source": [
    "\n",
    "from sklearn.ensemble import RandomForestClassifier\n",
    "from sklearn.metrics import classification_report\n",
    "import joblib\n",
    "\n",
    "# Load split data\n",
    "X_train = pd.read_csv(\"X_train.csv\")\n",
    "y_train = pd.read_csv(\"y_train.csv\").squeeze()\n",
    "\n",
    "# Train model\n",
    "clf = RandomForestClassifier(n_estimators=100, random_state=42)\n",
    "clf.fit(X_train, y_train)\n",
    "\n",
    "# Save model\n",
    "joblib.dump(clf, \"credit_model.pkl\")\n"
   ]
  },
  {
   "cell_type": "markdown",
   "id": "f3e7b653",
   "metadata": {},
   "source": [
    "### 🔹 Step 3: Streamlit UI Code (for separate `app.py` file)"
   ]
  },
  {
   "cell_type": "code",
   "execution_count": null,
   "id": "4c0116ed",
   "metadata": {},
   "outputs": [],
   "source": [
    "\n",
    "# Save this code separately as app.py for Streamlit use\n",
    "\n",
    "import streamlit as st\n",
    "import pandas as pd\n",
    "import joblib\n",
    "\n",
    "model = joblib.load(\"credit_model.pkl\")\n",
    "\n",
    "st.title(\"German Credit Risk Prediction\")\n",
    "\n",
    "age = st.slider(\"Age\", 18, 75)\n",
    "credit_amount = st.number_input(\"Credit Amount\")\n",
    "duration = st.slider(\"Duration (in months)\", 6, 60)\n",
    "job = st.selectbox(\"Job Type\", [0, 1, 2, 3])\n",
    "housing = st.selectbox(\"Housing\", ['own', 'free', 'rent'])\n",
    "sex = st.selectbox(\"Sex\", ['male', 'female'])\n",
    "\n",
    "input_dict = {\n",
    "    'Age': age,\n",
    "    'Credit amount': credit_amount,\n",
    "    'Duration': duration,\n",
    "    'Job': job,\n",
    "    'Sex_male': 1 if sex == 'male' else 0,\n",
    "    'Housing_own': 1 if housing == 'own' else 0,\n",
    "    'Housing_rent': 1 if housing == 'rent' else 0,\n",
    "}\n",
    "\n",
    "input_data = pd.DataFrame([input_dict])\n",
    "for col in model.feature_names_in_:\n",
    "    if col not in input_data.columns:\n",
    "        input_data[col] = 0\n",
    "\n",
    "input_data = input_data[model.feature_names_in_]\n",
    "\n",
    "prediction = model.predict(input_data)[0]\n",
    "st.write(\"Prediction:\", \"✅ Good Credit Risk\" if prediction == 1 else \"❌ Bad Credit Risk\")\n"
   ]
  }
 ],
 "metadata": {},
 "nbformat": 4,
 "nbformat_minor": 5
}
